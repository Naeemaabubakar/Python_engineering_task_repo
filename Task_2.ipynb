{
 "cells": [
  {
   "cell_type": "code",
   "execution_count": 2,
   "metadata": {},
   "outputs": [
    {
     "name": "stdout",
     "output_type": "stream",
     "text": [
      "Item added: laptop - Final Price: $-2500.0\n",
      "\n",
      "--- Cart Summary ---\n",
      "laptop - $-2500.0 ()\n",
      "Total Cost: $-2500.0\n"
     ]
    }
   ],
   "source": [
    "# Step 1: Define the add_to_cart function\n",
    "def add_to_cart(item_name, price, *args, **kwargs):\n",
    "    \"\"\"\n",
    "    Function to add an item to the cart.\n",
    "    Args:\n",
    "        item_name (str): Name of the item.\n",
    "        price (float): Price of the item.\n",
    "        *args: Optional discounts (percentage).\n",
    "        **kwargs: Optional item details (key-value pairs).\n",
    "    Returns:\n",
    "        dict: A dictionary with item details and final price.\n",
    "    \"\"\"\n",
    "    # Apply discounts if provided\n",
    "    discount_percentage = sum(args)  # Total discount percentage\n",
    "    final_price = price * (1 - discount_percentage / 100)\n",
    "\n",
    "    # Return item details\n",
    "    return {\n",
    "        \"name\": item_name,\n",
    "        \"final_price\": round(final_price, 2),\n",
    "        \"details\": kwargs\n",
    "    }\n",
    "\n",
    "# Step 2: Initialize the shopping cart\n",
    "cart = []  # List to store items\n",
    "item_names = set()  # Set to track item names and avoid duplicates\n",
    "\n",
    "# Step 3: Create a loop to allow user input\n",
    "while True:\n",
    "    # Step 4: Get user input for item name\n",
    "    item_name = input(\"Enter item name (or 'done' to finish): \").strip()\n",
    "\n",
    "    # Step 5: Check if the user wants to finish\n",
    "    if item_name.lower() == 'done':\n",
    "        break\n",
    "\n",
    "    # Step 6: Check if the item already exists in the cart\n",
    "    if item_name in item_names:\n",
    "        print(\"Item already in the cart. Please add a different item.\")\n",
    "        continue\n",
    "\n",
    "    # Step 7: Get the item price\n",
    "    try:\n",
    "        price = float(input(\"Enter item price: \").strip())\n",
    "    except ValueError:\n",
    "        print(\"Invalid price. Please enter a number.\")\n",
    "        continue\n",
    "\n",
    "    # Step 8: Get discounts\n",
    "    discounts = input(\"Enter discounts (if any, separated by spaces): \").strip()\n",
    "    discount_values = [float(d) for d in discounts.split()] if discounts else []\n",
    "\n",
    "    # Step 9: Get item details\n",
    "    input_details = input(\"Enter item details (e.g., color=red size=large): \").strip()\n",
    "    details = dict(detail.split('=') for detail in input_details.split() if '=' in detail)\n",
    "\n",
    "    # Step 10: Add the item to the cart\n",
    "    item = add_to_cart(item_name, price, *discount_values, **details)\n",
    "    cart.append(item)\n",
    "    item_names.add(item_name)\n",
    "\n",
    "    # Step 11: Confirm the addition\n",
    "    print(f\"Item added: {item_name} - Final Price: ${item['final_price']}\")\n",
    "\n",
    "# Step 12: Display the cart summary\n",
    "print(\"\\n--- Cart Summary ---\")\n",
    "total_cost = 0\n",
    "for item in cart:\n",
    "    details_str = ', '.join(f\"{k}={v}\" for k, v in item['details'].items())\n",
    "    print(f\"{item['name']} - ${item['final_price']} ({details_str})\")\n",
    "    total_cost += item['final_price']\n",
    "\n",
    "# Step 13: Print the total cost\n",
    "print(f\"Total Cost: ${round(total_cost, 2)}\")\n"
   ]
  }
 ],
 "metadata": {
  "kernelspec": {
   "display_name": "base",
   "language": "python",
   "name": "python3"
  },
  "language_info": {
   "codemirror_mode": {
    "name": "ipython",
    "version": 3
   },
   "file_extension": ".py",
   "mimetype": "text/x-python",
   "name": "python",
   "nbconvert_exporter": "python",
   "pygments_lexer": "ipython3",
   "version": "3.11.5"
  }
 },
 "nbformat": 4,
 "nbformat_minor": 2
}
